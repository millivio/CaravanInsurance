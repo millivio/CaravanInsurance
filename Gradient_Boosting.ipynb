{
 "cells": [
  {
   "cell_type": "code",
   "execution_count": 1,
   "id": "52fb74ea-233c-4dee-a4f4-b948542267aa",
   "metadata": {},
   "outputs": [],
   "source": [
    "import numpy as np\n",
    "import pandas as pd\n",
    "import matplotlib.pyplot as plt\n",
    "from sklearn.model_selection import train_test_split\n",
    "from scripts.data_loader import load_caravan"
   ]
  },
  {
   "cell_type": "code",
   "execution_count": 2,
   "id": "4e5cd941-58f1-4a7e-82bb-b1dacc47c2c4",
   "metadata": {},
   "outputs": [
    {
     "name": "stdout",
     "output_type": "stream",
     "text": [
      "Train shape: (5822, 86)\n",
      "Test shape: (4000, 85)\n"
     ]
    }
   ],
   "source": [
    "# ---------------------------\n",
    "# 1) Load data and names\n",
    "# ---------------------------\n",
    "train, test, X, y, TARGET = load_caravan(data_dir=\"./data\")\n",
    "print(\"Train shape:\", train.shape)\n",
    "print(\"Test shape:\", test.shape)"
   ]
  },
  {
   "cell_type": "code",
   "execution_count": 4,
   "id": "b3b0d35c-56a1-4753-a0cc-f1bd5c5718b3",
   "metadata": {},
   "outputs": [
    {
     "name": "stdout",
     "output_type": "stream",
     "text": [
      "Train/Val sizes: (4657, 85) (1165, 85)\n",
      "Positive rate (train/val): 0.0597 0.0601\n"
     ]
    }
   ],
   "source": [
    "X_train, X_val, y_train, y_val = train_test_split(\n",
    "    X, y, test_size=0.20, stratify=y, random_state=42\n",
    ")\n",
    "\n",
    "print(\"Train/Val sizes:\", X_train.shape, X_val.shape)\n",
    "print(\"Positive rate (train/val):\", round(y_train.mean(),4), round(y_val.mean(),4))"
   ]
  },
  {
   "cell_type": "code",
   "execution_count": null,
   "id": "9e4c4fe6-7111-41b7-8617-6ea47c947bb3",
   "metadata": {},
   "outputs": [
    {
     "name": "stdout",
     "output_type": "stream",
     "text": [
      "Fitting 5 folds for each of 40 candidates, totalling 200 fits\n"
     ]
    }
   ],
   "source": [
    "from sklearn.model_selection import train_test_split, StratifiedKFold, RandomizedSearchCV\n",
    "from sklearn.ensemble import GradientBoostingClassifier\n",
    "from scipy.stats import randint, uniform\n",
    "\n",
    "gb = GradientBoostingClassifier(random_state=42)\n",
    "\n",
    "param_dist = {\n",
    "    'n_estimators': randint(150, 451),         # 150..450\n",
    "    'learning_rate': uniform(0.03, 0.17),      # ~0.03..0.20\n",
    "    'max_depth': randint(2, 5),                # 2..4 (trees inside GB)\n",
    "    'min_samples_split': randint(2, 21),       # 2..20\n",
    "    'min_samples_leaf': randint(1, 11),        # 1..10\n",
    "    'subsample': uniform(0.7, 0.3),            # ~0.7..1.0\n",
    "    'max_features': ['sqrt', 'log2', None]\n",
    "}\n",
    "\n",
    "cv = StratifiedKFold(n_splits=5, shuffle=True, random_state=42)\n",
    "\n",
    "gb_search = RandomizedSearchCV(\n",
    "    estimator=gb,\n",
    "    param_distributions=param_dist,\n",
    "    n_iter=40,                    # small but effective search\n",
    "    scoring='average_precision',  # PR-AUC\n",
    "    cv=cv,\n",
    "    random_state=42,\n",
    "    n_jobs=-1,\n",
    "    verbose=1,\n",
    "    refit=True\n",
    ")\n",
    "\n",
    "gb_search.fit(X_train, y_train)\n",
    "print(\"Best GB params:\", gb_search.best_params_)\n",
    "print(\"Best CV PR-AUC:\", round(gb_search.best_score_, 4))\n",
    "\n",
    "gb_best = gb_search.best_estimator_"
   ]
  },
  {
   "cell_type": "code",
   "execution_count": null,
   "id": "4c3a08f1-d9bf-42f4-9c0d-50f9454d186e",
   "metadata": {},
   "outputs": [],
   "source": [
    "import numpy as np\n",
    "\n",
    "proba_val = gb_best.predict_proba(X_val)[:, 1]\n",
    "preds_val = (proba_val >= 0.5).astype(int)\n",
    "\n",
    "roc = roc_auc_score(y_val, proba_val)\n",
    "pra = average_precision_score(y_val, proba_val)\n",
    "print(\"\\n[GB Tuned] Validation ROC-AUC:\", round(roc, 4))\n",
    "print(\"[GB Tuned] Validation PR-AUC :\", round(pra, 4))\n",
    "\n",
    "print(\"\\n[GB Tuned] Classification report @ 0.5\")\n",
    "print(classification_report(y_val, preds_val, zero_division=0))\n",
    "\n",
    "cm = confusion_matrix(y_val, preds_val)\n",
    "print(\"Confusion matrix:\\n\", cm)\n",
    "\n",
    "def precision_at_k(y_true, scores, k=0.05):\n",
    "    n = len(scores)\n",
    "    top = max(1, int(k*n))\n",
    "    idx = np.argsort(-scores)[:top]\n",
    "    return float(y_true.iloc[idx].mean())\n",
    "\n",
    "p5  = precision_at_k(y_val, proba_val, 0.05)\n",
    "p10 = precision_at_k(y_val, proba_val, 0.10)\n",
    "print(\"Precision@Top5%:\", round(p5, 4))\n",
    "print(\"Precision@Top10%:\", round(p10, 4))\n"
   ]
  }
 ],
 "metadata": {
  "kernelspec": {
   "display_name": "Python 3 (ipykernel)",
   "language": "python",
   "name": "python3"
  },
  "language_info": {
   "codemirror_mode": {
    "name": "ipython",
    "version": 3
   },
   "file_extension": ".py",
   "mimetype": "text/x-python",
   "name": "python",
   "nbconvert_exporter": "python",
   "pygments_lexer": "ipython3",
   "version": "3.9.6"
  }
 },
 "nbformat": 4,
 "nbformat_minor": 5
}
