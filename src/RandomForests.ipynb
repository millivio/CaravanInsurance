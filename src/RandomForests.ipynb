{
 "cells": [
  {
   "cell_type": "markdown",
   "id": "9efca932-1271-4774-8867-65cb07f9d4d4",
   "metadata": {},
   "source": [
    "## Random Forests\n",
    "\n",
    "**Random Forest**\n",
    "- Random Forest is an **ensemble model** built from many decision trees.  \n",
    "- Each tree is trained on a random subset of the data and features (\"bagging\" + \"feature randomness\").  \n",
    "- The final prediction is made by **majority vote** (classification) or **averaging** (regression).  \n",
    "- This randomness makes the model more robust and reduces overfitting compared to a single decision tree.\n",
    "\n",
    "**Why ?**\n",
    "- Handles **non-linear relationships** and **feature interactions** automatically.  \n",
    "- Works well on mixed or categorical-like features without strict scaling.  \n",
    "- More powerful than Logistic Regression for complex patterns, are less sensitive to outliers than Logistic Regression.\n",
    "- Built-in support for **imbalanced classes** using `class_weight=\"balanced\"`.  \n",
    "\n",
    "It will help us see whether non-linear ensembles improve performance.\n"
   ]
  },
  {
   "cell_type": "code",
   "execution_count": 8,
   "id": "2caa264a-5538-499c-b1ee-c7258c75a147",
   "metadata": {},
   "outputs": [],
   "source": [
    "import os, re\n",
    "import numpy as np\n",
    "import pandas as pd\n",
    "import matplotlib.pyplot as plt\n",
    "from sklearn.model_selection import train_test_split\n",
    "from scripts.data_loader import load_caravan\n",
    "from scripts.metrics import evaluate_model\n",
    "from sklearn.model_selection import RandomizedSearchCV\n",
    "from scipy.stats import randint"
   ]
  },
  {
   "cell_type": "code",
   "execution_count": 9,
   "id": "9d1e72ae-f1d4-42de-b2ae-161fd50cdcbf",
   "metadata": {},
   "outputs": [],
   "source": [
    "train, test, X, y, TARGET = load_caravan(data_dir=\"../data\")\n",
    "X_train, X_val, y_train, y_val = train_test_split(\n",
    "    X, y, test_size=0.30, stratify=y, random_state=42)"
   ]
  },
  {
   "cell_type": "code",
   "execution_count": 10,
   "id": "3cdb91df-854d-42ba-9419-264ed4bba2c9",
   "metadata": {},
   "outputs": [
    {
     "name": "stdout",
     "output_type": "stream",
     "text": [
      "\n",
      "=== random forest ===\n",
      "ROC-AUC: 0.7161 | PR-AUC: 0.1425\n",
      "Best-F1 threshold: 0.156\n",
      "At best-F1: Precision=0.155, Recall=0.500, F1=0.237\n",
      "              precision    recall  f1-score   support\n",
      "\n",
      "           0       0.96      0.83      0.89      1643\n",
      "           1       0.16      0.50      0.24       104\n",
      "\n",
      "    accuracy                           0.81      1747\n",
      "   macro avg       0.56      0.66      0.56      1747\n",
      "weighted avg       0.92      0.81      0.85      1747\n",
      "\n"
     ]
    }
   ],
   "source": [
    "from sklearn.ensemble import RandomForestClassifier\n",
    "\n",
    "# Class imbalance: use class_weight=\"balanced_subsample\" so each tree sees reweighted classes\n",
    "rf = RandomForestClassifier(\n",
    "    n_estimators=400,           # number of trees\n",
    "    max_depth=None,             # allow trees to grow fully (we regularize via min_samples_leaf)\n",
    "    min_samples_leaf=2,         # small leaf size to reduce overfitting a bit\n",
    "    min_samples_split=5,        # avoid very tiny splits\n",
    "    class_weight=\"balanced_subsample\", #same as “balanced” except weights are computed based on the bootstrap sample for every tree grown.\n",
    "    n_jobs=-1,                  # use all CPU cores\n",
    "    random_state=42\n",
    ")\n",
    "\n",
    "rf.fit(X_train, y_train)\n",
    "\n",
    "proba_val = rf.predict_proba(X_val)[:, 1]\n",
    "preds_val = rf.predict(X_val)\n",
    "\n",
    "results = evaluate_model(\"random forest\", y_val, proba_val)"
   ]
  },
  {
   "cell_type": "markdown",
   "id": "405a0f56-a586-4faa-8adb-e897980a95c0",
   "metadata": {},
   "source": [
    "## Random Forest Results\n",
    "\n",
    "**Global metrics**\n",
    "- **ROC-AUC = 0.716** → The model has a reasonable ability to rank buyers above non-buyers.  \n",
    "- **PR-AUC = 0.143** → On this imbalanced dataset (6% positives), this is about 2–3× better than random guessing (≈0.06).  \n",
    "\n",
    "**Performance at best-F1 threshold (0.156)**\n",
    "- **Precision = 0.155** → About 15% of predicted buyers are correct.  \n",
    "- **Recall = 0.500** → The model successfully identifies 50% of the true buyers.  \n",
    "- **F1 = 0.237** → Harmonic mean of precision and recall, balancing the two.  \n",
    "\n",
    "**Classification report (per class)**\n",
    "- **Class 0 (non-buyers)**: Precision 0.96, Recall 0.83 → the model is strong at detecting non-buyers.  \n",
    "- **Class 1 (buyers)**: Precision 0.16, Recall 0.50 → the model catches half of the buyers, but with many false positives.  \n",
    "\n",
    "**Accuracy = 0.81**  \n",
    "- Looks decent, but less informative here because the dataset is highly imbalanced.  \n",
    "\n",
    "**Interpretation**  \n",
    "- Random Forest captures **half of the true buyers** but at the cost of many false alarms.  \n",
    "- It performs better than random, but **precision is low**, meaning a marketing campaign would still contact many uninterested customers.  \n",
    "- Compared to Logistic Regression and Gradient Boosting, this model is **weaker in PR-AUC and F1**, so it is not the best choice overall.\n"
   ]
  },
  {
   "cell_type": "code",
   "execution_count": 14,
   "id": "36f6328b-2ff0-48e0-ae74-d6346ca4f468",
   "metadata": {},
   "outputs": [
    {
     "name": "stdout",
     "output_type": "stream",
     "text": [
      "Fitting 5 folds for each of 40 candidates, totalling 200 fits\n",
      "Best RF params: {'max_depth': 8, 'max_features': 'sqrt', 'min_samples_leaf': 4, 'min_samples_split': 8, 'n_estimators': 500}\n",
      "Best CV PR-AUC: 0.1674\n",
      "\n",
      "=== random forest (tuned)  ===\n",
      "ROC-AUC: 0.7664 | PR-AUC: 0.1973\n",
      "Best-F1 threshold: 0.575\n",
      "At best-F1: Precision=0.256, Recall=0.317, F1=0.283\n",
      "              precision    recall  f1-score   support\n",
      "\n",
      "           0       0.96      0.94      0.95      1643\n",
      "           1       0.26      0.32      0.28       104\n",
      "\n",
      "    accuracy                           0.90      1747\n",
      "   macro avg       0.61      0.63      0.62      1747\n",
      "weighted avg       0.91      0.90      0.91      1747\n",
      "\n"
     ]
    }
   ],
   "source": [
    "from sklearn.model_selection import StratifiedKFold, GridSearchCV\n",
    "\n",
    "rf_base = RandomForestClassifier(\n",
    "    class_weight=\"balanced_subsample\",\n",
    "    n_jobs=-1,\n",
    "    random_state=42\n",
    ")\n",
    "\n",
    "param_dist = {\n",
    "    \"n_estimators\": randint(300, 901),     # 300..900\n",
    "    \"max_depth\":   [None, 8, 10, 12, 14],  # discrete set (depth control helps ranking)\n",
    "    \"min_samples_leaf\": randint(1, 5),     # 1..4\n",
    "    \"min_samples_split\": randint(2, 11),   # 2..10\n",
    "    \"max_features\": [\"sqrt\", \"log2\", None] # feature subsampling\n",
    "}\n",
    "\n",
    "cv = StratifiedKFold(n_splits=5, shuffle=True, random_state=42)\n",
    "\n",
    "rf_rand = RandomizedSearchCV(\n",
    "    estimator=rf_base,\n",
    "    param_distributions=param_dist,\n",
    "    n_iter=40,\n",
    "    scoring=\"average_precision\",  # PR-AUC\n",
    "    cv=cv,\n",
    "    n_jobs=-1,\n",
    "    random_state=42,\n",
    "    verbose=1,\n",
    "    refit=True\n",
    ")\n",
    "\n",
    "rf_rand.fit(X_train, y_train)\n",
    "\n",
    "print(\"Best RF params:\", rf_rand.best_params_)\n",
    "print(\"Best CV PR-AUC:\", round(rf_rand.best_score_, 4))\n",
    "\n",
    "rf_best = rf_rand.best_estimator_\n",
    "\n",
    "# Evaluate tuned model on validation\n",
    "proba_val_best = rf_best.predict_proba(X_val)[:, 1]\n",
    "preds_val_best  = rf_best.predict(X_val)\n",
    "\n",
    "results = evaluate_model(\"random forest (tuned) \", y_val, proba_val_best)\n"
   ]
  },
  {
   "cell_type": "markdown",
   "id": "82668782-c8e3-4fad-b9cc-82bf5d98e607",
   "metadata": {},
   "source": [
    "## Random Forest (Tuned) Results\n",
    "\n",
    "- **ROC-AUC = 0.766** → The model can reasonably rank buyers vs. non-buyers.  \n",
    "- **PR-AUC = 0.197** → Better than random baseline (~0.06), but still modest for an imbalanced dataset.  \n",
    "\n",
    "- **Best-F1 threshold = 0.575**  \n",
    "  - **Precision = 0.256** → ~26% of predicted buyers are correct.  \n",
    "  - **Recall = 0.317** → ~32% of actual buyers are captured.  \n",
    "  - **F1 = 0.283** → Balanced score, better then logistic regression.  \n",
    "\n",
    "- **Class 0 (non-buyers)**: Very strong performance (precision/recall ≈ 0.95).  \n",
    "- **Class 1 (buyers)**: Weak recall and precision, reflecting the challenge of imbalance.  \n",
    "- **Accuracy = 0.90** looks high, but is dominated by the majority class and not a reliable indicator.  \n"
   ]
  },
  {
   "cell_type": "code",
   "execution_count": 15,
   "id": "6df00e01-6b60-4ce9-a023-b0cafe06abf4",
   "metadata": {},
   "outputs": [
    {
     "name": "stdout",
     "output_type": "stream",
     "text": [
      "Number of customers predicted to be interested: 307\n",
      "Percentage of customers predicted to be interested: 7.67%\n"
     ]
    }
   ],
   "source": [
    "# Refit final RF on ALL labeled data\n",
    "rf_final = RandomForestClassifier(**rf_best.get_params())\n",
    "rf_final.random_state = 42\n",
    "rf_final.fit(X, y)\n",
    "\n",
    "X_test = test.copy()\n",
    "best_thr = 0.575\n",
    "\n",
    "test_probabilities = rf_final.predict_proba(X_test)[:, 1]  # Get probabilities for the positive class\n",
    "\n",
    "test_pred = (test_probabilities >= best_thr).astype(int)\n",
    "\n",
    "# count and percentage\n",
    "num_pred = int(test_pred.sum())\n",
    "total = len(test_pred)\n",
    "pct = 100.0 * num_pred / total\n",
    "\n",
    "print(f\"Number of customers predicted to be interested: {num_pred}\")\n",
    "print(f\"Percentage of customers predicted to be interested: {pct:.2f}%\")"
   ]
  },
  {
   "cell_type": "markdown",
   "id": "266ff0f5-b9f2-41c7-ac67-f087b53f5e2c",
   "metadata": {},
   "source": [
    "## Feature Importance\n",
    "\n",
    "Gini importance measures how much each feature reduces impurity across all trees.\n",
    "It is quick and widely used. They can be biased toward variables with many split points; they don’t show direction (increase vs decrease). Still useful as a global ranking"
   ]
  },
  {
   "cell_type": "code",
   "execution_count": 16,
   "id": "4454c28b-e9fd-4f7f-908a-45731235107f",
   "metadata": {},
   "outputs": [
    {
     "name": "stdout",
     "output_type": "stream",
     "text": [
      "Top 10 Features Influencing Decisions:\n",
      "                   Feature  Importance\n",
      " Contribution car policies    0.114173\n",
      "         # of car policies    0.070468\n",
      "Contribution fire policies    0.052724\n",
      "          Customer Subtype    0.035408\n",
      "     Lower level education    0.028070\n",
      "            Average income    0.027545\n",
      "           Income < 30.000    0.026814\n",
      "    Purchasing power class    0.026199\n",
      "        Customer main type    0.022939\n",
      "                   Married    0.020946\n"
     ]
    },
    {
     "data": {
      "image/png": "[encoded data removed]",
      "text/plain": [
       "<Figure size 900x600 with 1 Axes>"
      ]
     },
     "metadata": {},
     "output_type": "display_data"
    }
   ],
   "source": [
    "importances = pd.Series(rf_final.feature_importances_, index=X.columns).sort_values(ascending=False)\n",
    "top10 = importances.head(10).reset_index()\n",
    "top10.columns = [\"Feature\", \"Importance\"]\n",
    "\n",
    "print(\"Top 10 Features Influencing Decisions:\")\n",
    "print(top10.to_string(index=False))\n",
    "\n",
    "plt.figure(figsize=(9,6))\n",
    "plt.barh(top10[\"Feature\"][::-1], top10[\"Importance\"][::-1])\n",
    "plt.title(\"Random Forest — Top 10 Feature Importances (Gini)\")\n",
    "plt.xlabel(\"Importance\")\n",
    "plt.tight_layout(); plt.show()"
   ]
  },
  {
   "cell_type": "markdown",
   "id": "880be249-ad3a-4c9e-90a5-80f907fd0ef6",
   "metadata": {},
   "source": [
    "### Business Interpretation of Top Features\n",
    "\n",
    "- **Contribution car policies / # of car policies** → Customers already insuring cars are more likely to add caravan insurance.  \n",
    "- **Contribution fire policies** → House/property insurance holders show some interest in asset protection.  \n",
    "- **Customer Subtype / Customer main type** → Household segmentation (lifestyle, demographics) strongly influences likelihood.  \n",
    "- **Lower level education** → Socio-demographic signal that may correlate with income, risk preferences, or asset ownership.  \n",
    "- **Average income / Income < 30,000 / Purchasing power class** → Financial capacity directly affects ability to buy discretionary insurance.  \n",
    "- **Married** → Family status may drive demand for additional protection products like caravan insurance.  \n"
   ]
  },
  {
   "cell_type": "code",
   "execution_count": null,
   "id": "88b848db-9a54-4c83-bc52-0fe7134daf88",
   "metadata": {},
   "outputs": [],
   "source": []
  }
 ],
 "metadata": {
  "kernelspec": {
   "display_name": "Python 3 (ipykernel)",
   "language": "python",
   "name": "python3"
  },
  "language_info": {
   "codemirror_mode": {
    "name": "ipython",
    "version": 3
   },
   "file_extension": ".py",
   "mimetype": "text/x-python",
   "name": "python",
   "nbconvert_exporter": "python",
   "pygments_lexer": "ipython3",
   "version": "3.9.6"
  }
 },
 "nbformat": 4,
 "nbformat_minor": 5
}
